{
 "cells": [
  {
   "cell_type": "code",
   "execution_count": 1,
   "id": "initial_id",
   "metadata": {
    "collapsed": true,
    "ExecuteTime": {
     "end_time": "2024-03-08T10:14:17.196154900Z",
     "start_time": "2024-03-08T10:13:57.279163600Z"
    }
   },
   "outputs": [],
   "source": [
    "import cv2\n",
    "import mediapipe as mp\n",
    "import numpy as np"
   ]
  },
  {
   "cell_type": "code",
   "execution_count": 21,
   "outputs": [],
   "source": [
    "def calculate_angle(a, b, c=None):\n",
    "    a = np.array(a)\n",
    "    b = np.array(b)\n",
    "    if c is not None:\n",
    "        c = np.array(c)\n",
    "        \n",
    "        radians = np.arctan2(c[1]-b[1], c[0]-b[0]) - np.arctan2(a[1]-b[1], a[0]-b[0])\n",
    "        angle = np.abs(radians*180.0/np.pi)\n",
    "        \n",
    "        if angle > 180.0:\n",
    "            angle = 360 - angle\n",
    "            \n",
    "        return angle\n",
    "    else:\n",
    "        radians = np.arctan2(b[1]-a[1], b[0]-a[0])\n",
    "        direction = np.degrees(radians)\n",
    "        return direction\n",
    "        "
   ],
   "metadata": {
    "collapsed": false,
    "ExecuteTime": {
     "end_time": "2024-03-08T11:21:57.234555400Z",
     "start_time": "2024-03-08T11:21:57.190311800Z"
    }
   },
   "id": "2697da96297f2ab4"
  },
  {
   "cell_type": "code",
   "execution_count": 24,
   "outputs": [],
   "source": [
    "def distanceCalculate(p1, p2):\n",
    "    \"\"\"p1 and p2 in format (x1,y1) and (x2,y2) tuples\"\"\"\n",
    "    dis = ((p2[0] - p1[0]) ** 2 + (p2[1] - p1[1]) ** 2) ** 0.5\n",
    "    return dis"
   ],
   "metadata": {
    "collapsed": false,
    "ExecuteTime": {
     "end_time": "2024-03-08T11:27:02.700981800Z",
     "start_time": "2024-03-08T11:27:02.651683300Z"
    }
   },
   "id": "2adb053fc5639e36"
  },
  {
   "cell_type": "code",
   "execution_count": 19,
   "outputs": [],
   "source": [
    "def distanceCalculate(p1, p2):\n",
    "    \"\"\"p1 and p2 in format (x1,y1) and (x2,y2) tuples\"\"\"\n",
    "    dis = ((p2[0] - p1[0]) ** 2 + (p2[1] - p1[1]) ** 2) ** 0.5\n",
    "    return dis"
   ],
   "metadata": {
    "collapsed": false,
    "ExecuteTime": {
     "end_time": "2024-03-08T11:15:41.205781200Z",
     "start_time": "2024-03-08T11:15:41.154671100Z"
    }
   },
   "id": "d32dbf408462be12"
  },
  {
   "cell_type": "code",
   "execution_count": 3,
   "outputs": [],
   "source": [
    "mp_drawing = mp.solutions.drawing_utils\n",
    "mp_drawing_styles = mp.solutions.drawing_styles\n",
    "mp_pose = mp.solutions.pose"
   ],
   "metadata": {
    "collapsed": false,
    "ExecuteTime": {
     "end_time": "2024-03-08T10:14:50.511172500Z",
     "start_time": "2024-03-08T10:14:50.490137400Z"
    }
   },
   "id": "67034646268cace8"
  },
  {
   "cell_type": "code",
   "execution_count": 4,
   "outputs": [],
   "source": [
    "def rescale_frame(frame, percent=50):\n",
    "    width = int(frame.shape[1] * percent/ 100)\n",
    "    height = int(frame.shape[0] * percent/ 100)\n",
    "    dim = (width, height)\n",
    "    return cv2.resize(frame, dim, interpolation =cv2.INTER_AREA)"
   ],
   "metadata": {
    "collapsed": false,
    "ExecuteTime": {
     "end_time": "2024-03-08T10:14:52.449585700Z",
     "start_time": "2024-03-08T10:14:52.429954400Z"
    }
   },
   "id": "e7fdd65ac60b81aa"
  },
  {
   "cell_type": "code",
   "execution_count": 9,
   "outputs": [],
   "source": [
    "def detection_body_part(landmarks, body_part_name):\n",
    "    return [\n",
    "        landmarks[mp_pose.PoseLandmark[body_part_name].value].x,\n",
    "        landmarks[mp_pose.PoseLandmark[body_part_name].value].y,\n",
    "        landmarks[mp_pose.PoseLandmark[body_part_name].value].visibility\n",
    "    ]"
   ],
   "metadata": {
    "collapsed": false,
    "ExecuteTime": {
     "end_time": "2024-03-08T10:33:07.835650200Z",
     "start_time": "2024-03-08T10:33:07.780967800Z"
    }
   },
   "id": "4b2956771df34942"
  },
  {
   "cell_type": "code",
   "execution_count": 104,
   "outputs": [
    {
     "name": "stdout",
     "output_type": "stream",
     "text": [
      "1\n",
      "2\n",
      "3\n",
      "4\n",
      "Ignoring empty camera frame.\n"
     ]
    }
   ],
   "source": [
    "# Initialize the webcam\n",
    "pullup_video = '../videos/pull_up_1_person.mp4'\n",
    "squat_video = '../videos/IMG_0292.mp4'\n",
    "push_up_video = '../videos/push_up_1_person.mp4'\n",
    "triceps_push_down = '../videos/triceps_pushdown.mp4'\n",
    "bench_press = '../videos/bench_press.mp4'\n",
    "biceps_curl = '../videos/biceps_curl.mp4'\n",
    "cable_row = '../videos/cable_row.mp4'\n",
    "lat_pulldown = '../videos/lat_pulldown.mp4'\n",
    "\n",
    "cap = cv2.VideoCapture(lat_pulldown)\n",
    "# cap = cv2.VideoCapture(0)\n",
    "\n",
    "# Squat counter variables\n",
    "counter = 0\n",
    "stage = None  # \"down\" or \"up\"\n",
    "exercise = 'lat_pulldown'\n",
    "direction = 1\n",
    "# Initialize Pose detection\n",
    "with mp_pose.Pose(min_detection_confidence=0.5, min_tracking_confidence=0.5) as pose:\n",
    "    start = 0\n",
    "    while cap.isOpened():\n",
    "        ret, frame = cap.read()\n",
    "\n",
    "        if not ret:\n",
    "            print(\"Ignoring empty camera frame.\")\n",
    "            break\n",
    "\n",
    "        # Recolor the frame to RGB\n",
    "        image = cv2.cvtColor(frame, cv2.COLOR_BGR2RGB)\n",
    "        image.flags.writeable = False\n",
    "\n",
    "        # Detect the pose\n",
    "        results = pose.process(image)\n",
    "        image_height, image_width, _ = image.shape\n",
    "        # Recolor back to BGR\n",
    "        image.flags.writeable = True\n",
    "        image = cv2.cvtColor(image, cv2.COLOR_RGB2BGR)\n",
    "\n",
    "        # Extract landmarks\n",
    "        try:\n",
    "            landmarks = results.pose_landmarks.landmark\n",
    "            if exercise == 'squat':\n",
    "\n",
    "                # Get coordinates for the left hip, knee, and ankle\n",
    "                hip = [landmarks[mp_pose.PoseLandmark.LEFT_HIP.value].x,\n",
    "                       landmarks[mp_pose.PoseLandmark.LEFT_HIP.value].y]\n",
    "                knee = [landmarks[mp_pose.PoseLandmark.LEFT_KNEE.value].x,\n",
    "                        landmarks[mp_pose.PoseLandmark.LEFT_KNEE.value].y]\n",
    "                ankle = [landmarks[mp_pose.PoseLandmark.LEFT_ANKLE.value].x,\n",
    "                         landmarks[mp_pose.PoseLandmark.LEFT_ANKLE.value].y]\n",
    "                # Calculate the angle\n",
    "                angle = calculate_angle(hip, knee, ankle)\n",
    "\n",
    "                # Squat logic\n",
    "                if angle > 160:  # Threshold for standing\n",
    "                    if stage == 'down':\n",
    "                        counter += 1\n",
    "                        print(counter)  # Print the squat count\n",
    "                    stage = 'up'\n",
    "                if angle < 100:  # Threshold for squat\n",
    "                    stage = 'down'\n",
    "            elif exercise == 'pushup':\n",
    "\n",
    "                # Get coordinates for the left hip, knee, and ankle\n",
    "                shoulder = [landmarks[mp_pose.PoseLandmark.RIGHT_SHOULDER.value].x,\n",
    "                            landmarks[mp_pose.PoseLandmark.RIGHT_SHOULDER.value].y]\n",
    "                elbow = [landmarks[mp_pose.PoseLandmark.RIGHT_ELBOW.value].x,\n",
    "                         landmarks[mp_pose.PoseLandmark.RIGHT_ELBOW.value].y]\n",
    "                wrist = [landmarks[mp_pose.PoseLandmark.RIGHT_WRIST.value].x,\n",
    "                         landmarks[mp_pose.PoseLandmark.RIGHT_WRIST.value].y]\n",
    "                # Calculate the angle\n",
    "                angle = calculate_angle(shoulder, elbow, wrist)\n",
    "                if angle > 160:  # Threshold for standing\n",
    "                    if stage == 'down':\n",
    "                        counter += 1\n",
    "                        print(counter)  # Print the squat count\n",
    "                    stage = 'up'\n",
    "                if angle < 70:  # Threshold for squat\n",
    "                    stage = 'down'\n",
    "            elif exercise == 'pullup':\n",
    "                shoulder = [landmarks[mp_pose.PoseLandmark.RIGHT_SHOULDER.value].x,\n",
    "                            landmarks[mp_pose.PoseLandmark.RIGHT_SHOULDER.value].y]\n",
    "                elbow = [landmarks[mp_pose.PoseLandmark.RIGHT_ELBOW.value].x,\n",
    "                         landmarks[mp_pose.PoseLandmark.RIGHT_ELBOW.value].y]\n",
    "                wrist = [landmarks[mp_pose.PoseLandmark.RIGHT_WRIST.value].x,\n",
    "                         landmarks[mp_pose.PoseLandmark.RIGHT_WRIST.value].y]\n",
    "                \n",
    "                angle = calculate_angle(shoulder, elbow, wrist)\n",
    "                if angle < 90:  # Threshold for \"up\" phase of a pull-up (body lifted)\n",
    "                    if stage == 'down':\n",
    "                        counter += 1\n",
    "                        print(counter)  # Print the pull-up count\n",
    "                    stage = 'up'\n",
    "                elif angle > 160:  # Threshold for \"down\" phase (body lowered)\n",
    "                    stage = 'down'\n",
    "            elif exercise == 'triceps_pushdown':\n",
    "                shoulder = [landmarks[mp_pose.PoseLandmark.RIGHT_SHOULDER.value].x,\n",
    "                            landmarks[mp_pose.PoseLandmark.RIGHT_SHOULDER.value].y]\n",
    "                elbow = [landmarks[mp_pose.PoseLandmark.RIGHT_ELBOW.value].x,\n",
    "                         landmarks[mp_pose.PoseLandmark.RIGHT_ELBOW.value].y]\n",
    "                wrist = [landmarks[mp_pose.PoseLandmark.RIGHT_WRIST.value].x,\n",
    "                         landmarks[mp_pose.PoseLandmark.RIGHT_WRIST.value].y]\n",
    "                angle = calculate_angle(shoulder, elbow, wrist)\n",
    "                if angle > 135:\n",
    "                    if stage == 'close':\n",
    "                        counter+=1\n",
    "                        print(counter)\n",
    "                    stage = 'open'\n",
    "                elif angle < 90:\n",
    "                    stage = 'close'\n",
    "            elif exercise == 'bench_press':\n",
    "                # Get coordinates for both the right and left shoulders, elbows, and wrists\n",
    "                right_shoulder = [landmarks[mp_pose.PoseLandmark.RIGHT_SHOULDER.value].x,\n",
    "                                  landmarks[mp_pose.PoseLandmark.RIGHT_SHOULDER.value].y]\n",
    "                right_elbow = [landmarks[mp_pose.PoseLandmark.RIGHT_ELBOW.value].x,\n",
    "                               landmarks[mp_pose.PoseLandmark.RIGHT_ELBOW.value].y]\n",
    "                right_wrist = [landmarks[mp_pose.PoseLandmark.RIGHT_WRIST.value].x,\n",
    "                               landmarks[mp_pose.PoseLandmark.RIGHT_WRIST.value].y]\n",
    "                \n",
    "                left_shoulder = [landmarks[mp_pose.PoseLandmark.LEFT_SHOULDER.value].x,\n",
    "                                 landmarks[mp_pose.PoseLandmark.LEFT_SHOULDER.value].y]\n",
    "                left_elbow = [landmarks[mp_pose.PoseLandmark.LEFT_ELBOW.value].x,\n",
    "                              landmarks[mp_pose.PoseLandmark.LEFT_ELBOW.value].y]\n",
    "                left_wrist = [landmarks[mp_pose.PoseLandmark.LEFT_WRIST.value].x,\n",
    "                              landmarks[mp_pose.PoseLandmark.LEFT_WRIST.value].y]\n",
    "                \n",
    "                # Calculate the angles for both arms\n",
    "                right_angle = calculate_angle(right_shoulder, right_elbow, right_wrist)\n",
    "                left_angle = calculate_angle(left_shoulder, left_elbow, left_wrist)\n",
    "                \n",
    "                # Average the angles of both arms for a more unified analysis\n",
    "                angle = (right_angle + left_angle) / 2\n",
    "                \n",
    "                # Logic for detecting the bench press motion\n",
    "                if angle > 160:  # Threshold for \"up\" phase (arms extended)\n",
    "                    if stage == 'down':  # Transition from down to up\n",
    "                        counter += 1\n",
    "                        print(counter)  # Print the bench press count\n",
    "                        stage = 'up'\n",
    "                elif angle < 90:  # Threshold for \"down\" phase (starting or bottom position)\n",
    "                    stage = 'down'\n",
    "            elif exercise == 'biceps_curl':\n",
    "                shoulder = [landmarks[mp_pose.PoseLandmark.RIGHT_SHOULDER.value].x,\n",
    "                            landmarks[mp_pose.PoseLandmark.RIGHT_SHOULDER.value].y]\n",
    "                elbow = [landmarks[mp_pose.PoseLandmark.RIGHT_ELBOW.value].x,\n",
    "                         landmarks[mp_pose.PoseLandmark.RIGHT_ELBOW.value].y]\n",
    "                wrist = [landmarks[mp_pose.PoseLandmark.RIGHT_WRIST.value].x,\n",
    "                         landmarks[mp_pose.PoseLandmark.RIGHT_WRIST.value].y]\n",
    "                angle = calculate_angle(shoulder, elbow, wrist)\n",
    "                if angle < 90:\n",
    "                    if stage == 'open':\n",
    "                        counter+=1\n",
    "                        print(counter)\n",
    "                    stage = 'close'\n",
    "                elif angle > 135:\n",
    "                    stage = 'open'\n",
    "            elif exercise == 'cable_row':\n",
    "                shoulder = [landmarks[mp_pose.PoseLandmark.LEFT_SHOULDER.value].x,\n",
    "                    landmarks[mp_pose.PoseLandmark.LEFT_SHOULDER.value].y]\n",
    "                elbow = [landmarks[mp_pose.PoseLandmark.LEFT_ELBOW.value].x,\n",
    "                         landmarks[mp_pose.PoseLandmark.LEFT_ELBOW.value].y]\n",
    "                wrist = [landmarks[mp_pose.PoseLandmark.LEFT_WRIST.value].x,\n",
    "                         landmarks[mp_pose.PoseLandmark.LEFT_WRIST.value].y]\n",
    "                \n",
    "                # Calculate the angle\n",
    "                angle = calculate_angle(shoulder, elbow, wrist)\n",
    "                # Logic for detecting the cable row motion\n",
    "                if angle < 100:\n",
    "                    if stage == 'extend':  # Transition from extend to pull\n",
    "                        counter += 1\n",
    "                        print(counter)  # Print the cable row count\n",
    "                        stage = 'pull'\n",
    "                elif angle > 130:  # Threshold for \"extend\" phase (starting or extended arm position before pulling the weight)\n",
    "                    stage = 'extend'\n",
    "            elif exercise == 'lat_pulldown':\n",
    "                right_shoulder = [landmarks[mp_pose.PoseLandmark.RIGHT_SHOULDER.value].x,\n",
    "                      landmarks[mp_pose.PoseLandmark.RIGHT_SHOULDER.value].y]\n",
    "                right_elbow = [landmarks[mp_pose.PoseLandmark.RIGHT_ELBOW.value].x,\n",
    "                               landmarks[mp_pose.PoseLandmark.RIGHT_ELBOW.value].y]\n",
    "                right_wrist = [landmarks[mp_pose.PoseLandmark.RIGHT_WRIST.value].x,\n",
    "                               landmarks[mp_pose.PoseLandmark.RIGHT_WRIST.value].y]\n",
    "                \n",
    "                left_shoulder = [landmarks[mp_pose.PoseLandmark.LEFT_SHOULDER.value].x,\n",
    "                                 landmarks[mp_pose.PoseLandmark.LEFT_SHOULDER.value].y]\n",
    "                left_elbow = [landmarks[mp_pose.PoseLandmark.LEFT_ELBOW.value].x,\n",
    "                              landmarks[mp_pose.PoseLandmark.LEFT_ELBOW.value].y]\n",
    "                left_wrist = [landmarks[mp_pose.PoseLandmark.LEFT_WRIST.value].x,\n",
    "                              landmarks[mp_pose.PoseLandmark.LEFT_WRIST.value].y]\n",
    "                \n",
    "                # Calculate the angles for both arms\n",
    "                right_angle = calculate_angle(right_shoulder, right_elbow, right_wrist)\n",
    "                left_angle = calculate_angle(left_shoulder, left_elbow, left_wrist)\n",
    "                \n",
    "                # Average the angles of both arms for a more unified analysis\n",
    "                angle = (right_angle + left_angle) / 2\n",
    "                if angle < 40:\n",
    "                    if stage == 'extend':  # Transition from extend to pull\n",
    "                        counter += 1\n",
    "                        print(counter)  # Print the lat pull-down count\n",
    "                        stage = 'pull'\n",
    "                elif angle > 120:\n",
    "                    stage = 'extend'\n",
    "                \n",
    "        except:\n",
    "            pass\n",
    "\n",
    "        # Render detections\n",
    "        mp_drawing.draw_landmarks(image, results.pose_landmarks, mp_pose.POSE_CONNECTIONS)\n",
    "        cv2.namedWindow('Exercise Counter', cv2.WINDOW_NORMAL)\n",
    "        cv2.imshow('Exercise Counter', image)\n",
    "        if cv2.waitKey(10) & 0xFF == ord('q'):\n",
    "            break\n",
    "\n",
    "cap.release()\n",
    "cv2.destroyAllWindows()"
   ],
   "metadata": {
    "collapsed": false,
    "ExecuteTime": {
     "end_time": "2024-03-08T23:38:15.938701200Z",
     "start_time": "2024-03-08T23:37:54.233129100Z"
    }
   },
   "id": "35b06b1a3af6f8c3"
  }
 ],
 "metadata": {
  "kernelspec": {
   "display_name": "Python 3",
   "language": "python",
   "name": "python3"
  },
  "language_info": {
   "codemirror_mode": {
    "name": "ipython",
    "version": 2
   },
   "file_extension": ".py",
   "mimetype": "text/x-python",
   "name": "python",
   "nbconvert_exporter": "python",
   "pygments_lexer": "ipython2",
   "version": "2.7.6"
  }
 },
 "nbformat": 4,
 "nbformat_minor": 5
}
